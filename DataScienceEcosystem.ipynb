{
 "cells": [
  {
   "cell_type": "markdown",
   "id": "5600d0c7-76ad-4a4e-a00e-a91ce8fc5855",
   "metadata": {},
   "source": [
    "# Data Science Tools and Ecosystem\n"
   ]
  },
  {
   "cell_type": "markdown",
   "id": "3e174490-6685-48f9-8c75-eddaa532d568",
   "metadata": {},
   "source": [
    "In this notebook, Data Science Tools and Ecosystem are summarized."
   ]
  },
  {
   "cell_type": "markdown",
   "id": "e36397a2-8b6e-4cfa-9b1a-fe111497f832",
   "metadata": {},
   "source": [
    "**Objectives:**\n",
    "* popular languages\n",
    "* libraries commonly used\n",
    "* examples\n"
   ]
  },
  {
   "cell_type": "markdown",
   "id": "9ae25599-dba7-46d4-8429-b65d07ec1251",
   "metadata": {},
   "source": [
    "Some of the popular languages that Data Scientists use are:"
   ]
  },
  {
   "cell_type": "markdown",
   "id": "10e36556-9305-4d8b-912b-01081e17d5d9",
   "metadata": {},
   "source": [
    "1. Python\n",
    "2. R\n",
    "3. Julia\n",
    "4. SQL"
   ]
  },
  {
   "cell_type": "markdown",
   "id": "c987d272-f075-4416-a7dc-9f6b62e6e924",
   "metadata": {},
   "source": [
    "Some of the commonly used libraries used by Data Scientists include:"
   ]
  },
  {
   "cell_type": "markdown",
   "id": "c2144f47-d34a-4f3f-9769-5438281f029b",
   "metadata": {},
   "source": [
    "1. Python: Pandas,NumPy,matplotlib\n",
    "2. R: ggplot2,dplyr,readr\n",
    "3. Julia: DataFrames.jl,Plots.jl"
   ]
  },
  {
   "cell_type": "markdown",
   "id": "10e2d76c-b691-48d5-b612-178b4debbe10",
   "metadata": {},
   "source": [
    "|Data Science Tools |\n",
    "|--|\n",
    "|PyCharm|\n",
    "|Jupyter Notebook|\n",
    "|RStudio|\n",
    "|VSCode|"
   ]
  },
  {
   "cell_type": "markdown",
   "id": "21bd6fd0-fe38-402d-be6b-b8d8552284cb",
   "metadata": {},
   "source": [
    "### Below are a few examples of evaluating arithmetic expressions in Python"
   ]
  },
  {
   "cell_type": "code",
   "execution_count": 3,
   "id": "65cb8193-5d40-44d9-8f9f-a805e44e41a4",
   "metadata": {},
   "outputs": [
    {
     "data": {
      "text/plain": [
       "17"
      ]
     },
     "execution_count": 3,
     "metadata": {},
     "output_type": "execute_result"
    }
   ],
   "source": [
    "#This a simple arithmetic expression to mutiply then add integers\n",
    "(3*4)+5"
   ]
  },
  {
   "cell_type": "code",
   "execution_count": 8,
   "id": "73014915-488e-419f-a66f-1a161fdcc7d3",
   "metadata": {},
   "outputs": [
    {
     "name": "stdout",
     "output_type": "stream",
     "text": [
      "3 hours and 20 minutes\n"
     ]
    }
   ],
   "source": [
    "# This will convert 200 minutes to hours by diving by 60\n",
    "minutes = 200\n",
    "minutes_in_hour = 60\n",
    "hours = minutes // minutes_in_hour\n",
    "minutes_calculated = minutes % minutes_in_hour \n",
    "print(f'{hours} hours and {minutes_calculated} minutes')"
   ]
  },
  {
   "cell_type": "markdown",
   "id": "16db232d-23b5-4e0a-a31a-126b154b6c50",
   "metadata": {},
   "source": [
    "## Author:\n",
    "T Georgiev"
   ]
  }
 ],
 "metadata": {
  "kernelspec": {
   "display_name": "Python [conda env:base] *",
   "language": "python",
   "name": "conda-base-py"
  },
  "language_info": {
   "codemirror_mode": {
    "name": "ipython",
    "version": 3
   },
   "file_extension": ".py",
   "mimetype": "text/x-python",
   "name": "python",
   "nbconvert_exporter": "python",
   "pygments_lexer": "ipython3",
   "version": "3.12.7"
  }
 },
 "nbformat": 4,
 "nbformat_minor": 5
}
